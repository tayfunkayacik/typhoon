{
 "cells": [
  {
   "cell_type": "code",
   "execution_count": 3,
   "id": "9c1e2b6d",
   "metadata": {},
   "outputs": [
    {
     "name": "stdout",
     "output_type": "stream",
     "text": [
      "0    1\n",
      "1    2\n",
      "2    3\n",
      "3    4\n",
      "4    5\n",
      "dtype: int64\n"
     ]
    }
   ],
   "source": [
    "import pandas as pd\n",
    "my_list=[1,2,3,4,5]\n",
    "my_series=pd.Series(my_list)\n",
    "print(my_series)\n"
   ]
  },
  {
   "cell_type": "code",
   "execution_count": 5,
   "id": "99fd18c5",
   "metadata": {},
   "outputs": [
    {
     "name": "stdout",
     "output_type": "stream",
     "text": [
      "     isim  Yaş\n",
      "0   Hilal   39\n",
      "1   Fethi   38\n",
      "2   Elvan   36\n",
      "3  Tayfun   34\n",
      "4   Gizem   33\n"
     ]
    }
   ],
   "source": [
    "import pandas as pd\n",
    "my_dict={'isim':['Hilal','Fethi','Elvan','Tayfun','Gizem'], 'Yaş':[39,38,36,34,33]}\n",
    "my_dataframe=pd.DataFrame(my_dict)\n",
    "print(my_dataframe)"
   ]
  },
  {
   "cell_type": "code",
   "execution_count": 14,
   "id": "821fb962",
   "metadata": {},
   "outputs": [
    {
     "name": "stdout",
     "output_type": "stream",
     "text": [
      "       İsim   Yaş\n",
      "0   Hilal      39\n",
      "1   Fethi      38\n",
      "2   Elvan      36\n",
      "3  Tayfun      34\n",
      "4   Gizem      33\n"
     ]
    }
   ],
   "source": [
    "import pandas as pd\n",
    "\n",
    "my_dataframe=pd.read_excel('D:/vs.xlsx')\n",
    "print(my_dataframe)"
   ]
  },
  {
   "cell_type": "code",
   "execution_count": null,
   "id": "14401f3d",
   "metadata": {},
   "outputs": [],
   "source": []
  }
 ],
 "metadata": {
  "kernelspec": {
   "display_name": "Python 3 (ipykernel)",
   "language": "python",
   "name": "python3"
  },
  "language_info": {
   "codemirror_mode": {
    "name": "ipython",
    "version": 3
   },
   "file_extension": ".py",
   "mimetype": "text/x-python",
   "name": "python",
   "nbconvert_exporter": "python",
   "pygments_lexer": "ipython3",
   "version": "3.9.13"
  }
 },
 "nbformat": 4,
 "nbformat_minor": 5
}
