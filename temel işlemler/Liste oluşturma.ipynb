{
 "cells": [
  {
   "cell_type": "markdown",
   "id": "11c8f199",
   "metadata": {},
   "source": [
    "# Listeler"
   ]
  },
  {
   "cell_type": "markdown",
   "id": "e2417351",
   "metadata": {},
   "source": [
    "Bu bölümde yapacağımız işlemler şunlardır\n",
    "                    1. Liste oluşturma\n",
    "                    2. İndeksleme ve parçalama\n",
    "                    3. Temel liste metodları ve işlemleri\n",
    "                    4. İç içe listeler               \n",
    "                    "
   ]
  },
  {
   "cell_type": "markdown",
   "id": "25db6cf5",
   "metadata": {},
   "source": [
    "## Liste Oluşturma"
   ]
  },
  {
   "cell_type": "markdown",
   "id": "8b0c2978",
   "metadata": {},
   "source": [
    "Listeler bi [] köşeli parantez içine veriler veya değerle konarak oluşturulabilir."
   ]
  },
  {
   "cell_type": "code",
   "execution_count": 1,
   "id": "84422b2c",
   "metadata": {},
   "outputs": [
    {
     "data": {
      "text/plain": [
       "['muz', 'elma', 'karpuz', 'armut']"
      ]
     },
     "execution_count": 1,
     "metadata": {},
     "output_type": "execute_result"
    }
   ],
   "source": [
    "#Sevdiğim listeler\n",
    "liste=[\"muz\",\"elma\",\"karpuz\",\"armut\"]\n",
    "liste"
   ]
  },
  {
   "cell_type": "code",
   "execution_count": 2,
   "id": "3bd97575",
   "metadata": {},
   "outputs": [
    {
     "data": {
      "text/plain": [
       "[7, 13, 'muz', 'elma']"
      ]
     },
     "execution_count": 2,
     "metadata": {},
     "output_type": "execute_result"
    }
   ],
   "source": [
    "#Sevdiğim sayılar ve meyveler \n",
    "liste2=[7,13,\"muz\",\"elma\"]\n",
    "liste2"
   ]
  },
  {
   "cell_type": "code",
   "execution_count": 3,
   "id": "8d4e4e68",
   "metadata": {},
   "outputs": [
    {
     "data": {
      "text/plain": [
       "['f', 's', 't', 'k', 'ç', 'ş', 'h', 'p']"
      ]
     },
     "execution_count": 3,
     "metadata": {},
     "output_type": "execute_result"
    }
   ],
   "source": [
    "s=\"fstkçşhp\"\n",
    "list(s)"
   ]
  },
  {
   "cell_type": "code",
   "execution_count": 4,
   "id": "ed354661",
   "metadata": {},
   "outputs": [
    {
     "data": {
      "text/plain": [
       "10"
      ]
     },
     "execution_count": 4,
     "metadata": {},
     "output_type": "execute_result"
    }
   ],
   "source": [
    "liste3=[1,2,3,4,5,6,7,8,9,0]\n",
    "len(liste3)"
   ]
  },
  {
   "cell_type": "code",
   "execution_count": 5,
   "id": "b8b790fd",
   "metadata": {},
   "outputs": [
    {
     "data": {
      "text/plain": [
       "4"
      ]
     },
     "execution_count": 5,
     "metadata": {},
     "output_type": "execute_result"
    }
   ],
   "source": [
    "liste3[3]"
   ]
  },
  {
   "cell_type": "code",
   "execution_count": 6,
   "id": "81b0825c",
   "metadata": {},
   "outputs": [
    {
     "data": {
      "text/plain": [
       "['muz', 'elma', 'karpuz', 'armut']"
      ]
     },
     "execution_count": 6,
     "metadata": {},
     "output_type": "execute_result"
    }
   ],
   "source": [
    "liste[:6]"
   ]
  },
  {
   "cell_type": "code",
   "execution_count": 7,
   "id": "2510b8f9",
   "metadata": {},
   "outputs": [
    {
     "data": {
      "text/plain": [
       "7"
      ]
     },
     "execution_count": 7,
     "metadata": {},
     "output_type": "execute_result"
    }
   ],
   "source": [
    "liste3[6]"
   ]
  },
  {
   "cell_type": "code",
   "execution_count": 8,
   "id": "60d85fb3",
   "metadata": {},
   "outputs": [
    {
     "data": {
      "text/plain": [
       "[6, 7, 8, 9, 0]"
      ]
     },
     "execution_count": 8,
     "metadata": {},
     "output_type": "execute_result"
    }
   ],
   "source": [
    "liste3[5:]"
   ]
  },
  {
   "cell_type": "code",
   "execution_count": 9,
   "id": "e7c9ff29",
   "metadata": {},
   "outputs": [
    {
     "data": {
      "text/plain": [
       "1"
      ]
     },
     "execution_count": 9,
     "metadata": {},
     "output_type": "execute_result"
    }
   ],
   "source": [
    "liste3[-len(liste3)]"
   ]
  },
  {
   "cell_type": "code",
   "execution_count": 10,
   "id": "841afa8e",
   "metadata": {},
   "outputs": [
    {
     "ename": "SyntaxError",
     "evalue": "invalid syntax (3374515656.py, line 1)",
     "output_type": "error",
     "traceback": [
      "\u001b[1;36m  File \u001b[1;32m\"C:\\Users\\BT-101\\AppData\\Local\\Temp\\ipykernel_11304\\3374515656.py\"\u001b[1;36m, line \u001b[1;32m1\u001b[0m\n\u001b[1;33m    liste3(::2)\u001b[0m\n\u001b[1;37m           ^\u001b[0m\n\u001b[1;31mSyntaxError\u001b[0m\u001b[1;31m:\u001b[0m invalid syntax\n"
     ]
    }
   ],
   "source": [
    "liste3(::2)"
   ]
  },
  {
   "cell_type": "code",
   "execution_count": null,
   "id": "6f663f78",
   "metadata": {},
   "outputs": [],
   "source": [
    "liste3[::2]"
   ]
  },
  {
   "cell_type": "code",
   "execution_count": null,
   "id": "4636890b",
   "metadata": {},
   "outputs": [],
   "source": [
    "\n",
    "liste3"
   ]
  },
  {
   "cell_type": "code",
   "execution_count": 12,
   "id": "494108a9",
   "metadata": {},
   "outputs": [
    {
     "data": {
      "text/plain": [
       "'3.1415'"
      ]
     },
     "execution_count": 12,
     "metadata": {},
     "output_type": "execute_result"
    }
   ],
   "source": [
    "t= 3.1415\n",
    "y=str(t)\n",
    "y"
   ]
  },
  {
   "cell_type": "code",
   "execution_count": null,
   "id": "0d256e4c",
   "metadata": {},
   "outputs": [],
   "source": [
    "#D"
   ]
  }
 ],
 "metadata": {
  "kernelspec": {
   "display_name": "Python 3 (ipykernel)",
   "language": "python",
   "name": "python3"
  },
  "language_info": {
   "codemirror_mode": {
    "name": "ipython",
    "version": 3
   },
   "file_extension": ".py",
   "mimetype": "text/x-python",
   "name": "python",
   "nbconvert_exporter": "python",
   "pygments_lexer": "ipython3",
   "version": "3.9.13"
  }
 },
 "nbformat": 4,
 "nbformat_minor": 5
}
