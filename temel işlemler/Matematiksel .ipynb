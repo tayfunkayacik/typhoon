{
 "cells": [
  {
   "cell_type": "markdown",
   "id": "60a61bc5",
   "metadata": {},
   "source": [
    "# Listeler"
   ]
  },
  {
   "cell_type": "markdown",
   "id": "9184de07",
   "metadata": {},
   "source": [
    "Bu bölümde yapacağımız işlemler şunlardır\n",
    "                    1. Liste oluşturma\n",
    "                    2. İndeksleme ve parçalama\n",
    "                    3. Temel liste metodları ve işlemleri\n",
    "                    4. İç içe listeler               \n",
    "                    "
   ]
  },
  {
   "cell_type": "markdown",
   "id": "06c90190",
   "metadata": {},
   "source": [
    "## Liste Oluşturma"
   ]
  },
  {
   "cell_type": "markdown",
   "id": "c4584b07",
   "metadata": {},
   "source": [
    "Listeler bi [] köşeli parantez içine veriler veya değerle konarak oluşturulabilir."
   ]
  },
  {
   "cell_type": "code",
   "execution_count": 1,
   "id": "6ebaab3b",
   "metadata": {},
   "outputs": [
    {
     "data": {
      "text/plain": [
       "['muz', 'elma', 'karpuz', 'armut']"
      ]
     },
     "execution_count": 1,
     "metadata": {},
     "output_type": "execute_result"
    }
   ],
   "source": [
    "#Sevdiğim listeler\n",
    "liste=[\"muz\",\"elma\",\"karpuz\",\"armut\"]\n",
    "liste"
   ]
  },
  {
   "cell_type": "code",
   "execution_count": 2,
   "id": "0f76ca9e",
   "metadata": {},
   "outputs": [
    {
     "data": {
      "text/plain": [
       "[7, 13, 'muz', 'elma']"
      ]
     },
     "execution_count": 2,
     "metadata": {},
     "output_type": "execute_result"
    }
   ],
   "source": [
    "#Sevdiğim sayılar ve meyveler \n",
    "liste2=[7,13,\"muz\",\"elma\"]\n",
    "liste2"
   ]
  },
  {
   "cell_type": "code",
   "execution_count": 3,
   "id": "3fe12bad",
   "metadata": {},
   "outputs": [
    {
     "data": {
      "text/plain": [
       "['f', 's', 't', 'k', 'ç', 'ş', 'h', 'p']"
      ]
     },
     "execution_count": 3,
     "metadata": {},
     "output_type": "execute_result"
    }
   ],
   "source": [
    "s=\"fstkçşhp\"\n",
    "list(s)"
   ]
  },
  {
   "cell_type": "code",
   "execution_count": 4,
   "id": "efe3c238",
   "metadata": {},
   "outputs": [
    {
     "data": {
      "text/plain": [
       "10"
      ]
     },
     "execution_count": 4,
     "metadata": {},
     "output_type": "execute_result"
    }
   ],
   "source": [
    "liste3=[1,2,3,4,5,6,7,8,9,0]\n",
    "len(liste3)"
   ]
  },
  {
   "cell_type": "code",
   "execution_count": 5,
   "id": "9853cb93",
   "metadata": {},
   "outputs": [
    {
     "data": {
      "text/plain": [
       "4"
      ]
     },
     "execution_count": 5,
     "metadata": {},
     "output_type": "execute_result"
    }
   ],
   "source": [
    "liste3[3]"
   ]
  },
  {
   "cell_type": "code",
   "execution_count": 6,
   "id": "0f2d1537",
   "metadata": {},
   "outputs": [
    {
     "data": {
      "text/plain": [
       "['muz', 'elma', 'karpuz', 'armut']"
      ]
     },
     "execution_count": 6,
     "metadata": {},
     "output_type": "execute_result"
    }
   ],
   "source": [
    "liste[:6]"
   ]
  },
  {
   "cell_type": "code",
   "execution_count": 7,
   "id": "ad8ba5b6",
   "metadata": {},
   "outputs": [
    {
     "data": {
      "text/plain": [
       "7"
      ]
     },
     "execution_count": 7,
     "metadata": {},
     "output_type": "execute_result"
    }
   ],
   "source": [
    "liste3[6]"
   ]
  },
  {
   "cell_type": "code",
   "execution_count": 8,
   "id": "25e1a17f",
   "metadata": {},
   "outputs": [
    {
     "data": {
      "text/plain": [
       "[6, 7, 8, 9, 0]"
      ]
     },
     "execution_count": 8,
     "metadata": {},
     "output_type": "execute_result"
    }
   ],
   "source": [
    "liste3[5:]"
   ]
  },
  {
   "cell_type": "code",
   "execution_count": 10,
   "id": "f3866fb8",
   "metadata": {},
   "outputs": [
    {
     "data": {
      "text/plain": [
       "1"
      ]
     },
     "execution_count": 10,
     "metadata": {},
     "output_type": "execute_result"
    }
   ],
   "source": [
    "liste3[-len(liste3)]"
   ]
  },
  {
   "cell_type": "code",
   "execution_count": 11,
   "id": "88af915c",
   "metadata": {},
   "outputs": [
    {
     "ename": "SyntaxError",
     "evalue": "invalid syntax (3374515656.py, line 1)",
     "output_type": "error",
     "traceback": [
      "\u001b[1;36m  File \u001b[1;32m\"C:\\Users\\BT-101\\AppData\\Local\\Temp\\ipykernel_8640\\3374515656.py\"\u001b[1;36m, line \u001b[1;32m1\u001b[0m\n\u001b[1;33m    liste3(::2)\u001b[0m\n\u001b[1;37m           ^\u001b[0m\n\u001b[1;31mSyntaxError\u001b[0m\u001b[1;31m:\u001b[0m invalid syntax\n"
     ]
    }
   ],
   "source": [
    "liste3(::2)"
   ]
  },
  {
   "cell_type": "code",
   "execution_count": 12,
   "id": "94bd1a09",
   "metadata": {},
   "outputs": [
    {
     "data": {
      "text/plain": [
       "[1, 3, 5, 7, 9]"
      ]
     },
     "execution_count": 12,
     "metadata": {},
     "output_type": "execute_result"
    }
   ],
   "source": [
    "liste3[::2]"
   ]
  },
  {
   "cell_type": "code",
   "execution_count": 19,
   "id": "475fb254",
   "metadata": {},
   "outputs": [
    {
     "data": {
      "text/plain": [
       "[1, 2, 3, 4, 5, 6, 7, 8, 9, 0, 'kedi', 'kedi', 'kedi']"
      ]
     },
     "execution_count": 19,
     "metadata": {},
     "output_type": "execute_result"
    }
   ],
   "source": [
    "\n",
    "liste3"
   ]
  },
  {
   "cell_type": "code",
   "execution_count": null,
   "id": "5f6bd138",
   "metadata": {},
   "outputs": [],
   "source": []
  },
  {
   "cell_type": "code",
   "execution_count": null,
   "id": "8dbc907b",
   "metadata": {},
   "outputs": [],
   "source": []
  }
 ],
 "metadata": {
  "kernelspec": {
   "display_name": "Python 3 (ipykernel)",
   "language": "python",
   "name": "python3"
  },
  "language_info": {
   "codemirror_mode": {
    "name": "ipython",
    "version": 3
   },
   "file_extension": ".py",
   "mimetype": "text/x-python",
   "name": "python",
   "nbconvert_exporter": "python",
   "pygments_lexer": "ipython3",
   "version": "3.9.13"
  }
 },
 "nbformat": 4,
 "nbformat_minor": 5
}
