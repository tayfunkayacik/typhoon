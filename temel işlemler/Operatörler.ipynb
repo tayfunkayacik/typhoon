{
 "cells": [
  {
   "cell_type": "markdown",
   "id": "48ee830d",
   "metadata": {},
   "source": [
    "#  Mantıklsal bağlaçlar"
   ]
  },
  {
   "cell_type": "markdown",
   "id": "38beba9d",
   "metadata": {},
   "source": [
    "## and operatörü"
   ]
  },
  {
   "cell_type": "code",
   "execution_count": 3,
   "id": "b897a9fc",
   "metadata": {},
   "outputs": [
    {
     "data": {
      "text/plain": [
       "False"
      ]
     },
     "execution_count": 3,
     "metadata": {},
     "output_type": "execute_result"
    }
   ],
   "source": [
    "1<2 and \"Murat\"==\"murat\""
   ]
  },
  {
   "cell_type": "code",
   "execution_count": 4,
   "id": "4f0da822",
   "metadata": {},
   "outputs": [
    {
     "data": {
      "text/plain": [
       "False"
      ]
     },
     "execution_count": 4,
     "metadata": {},
     "output_type": "execute_result"
    }
   ],
   "source": [
    "1>2 and \"Murat\"==\"Murat\""
   ]
  },
  {
   "cell_type": "code",
   "execution_count": 5,
   "id": "92eb5535",
   "metadata": {},
   "outputs": [
    {
     "data": {
      "text/plain": [
       "True"
      ]
     },
     "execution_count": 5,
     "metadata": {},
     "output_type": "execute_result"
    }
   ],
   "source": [
    "1<2 and \"Murat\"==\"Murat\""
   ]
  },
  {
   "cell_type": "markdown",
   "id": "074f33d1",
   "metadata": {},
   "source": [
    "## or operatörü"
   ]
  },
  {
   "cell_type": "code",
   "execution_count": 7,
   "id": "c65414a2",
   "metadata": {},
   "outputs": [
    {
     "data": {
      "text/plain": [
       "True"
      ]
     },
     "execution_count": 7,
     "metadata": {},
     "output_type": "execute_result"
    }
   ],
   "source": [
    "1<3 or \"Murat\"==\"murat\""
   ]
  },
  {
   "cell_type": "markdown",
   "id": "3126ea05",
   "metadata": {},
   "source": [
    "## ! değilse doğru kabul et"
   ]
  },
  {
   "cell_type": "code",
   "execution_count": 8,
   "id": "f83dede9",
   "metadata": {},
   "outputs": [
    {
     "data": {
      "text/plain": [
       "True"
      ]
     },
     "execution_count": 8,
     "metadata": {},
     "output_type": "execute_result"
    }
   ],
   "source": [
    "2<3 or \"Murat\"!=\"Murat\"or 3.14<4.321"
   ]
  },
  {
   "cell_type": "markdown",
   "id": "d9495d1e",
   "metadata": {},
   "source": [
    "## not operatörü"
   ]
  },
  {
   "cell_type": "code",
   "execution_count": 10,
   "id": "2e6fba47",
   "metadata": {},
   "outputs": [
    {
     "data": {
      "text/plain": [
       "False"
      ]
     },
     "execution_count": 10,
     "metadata": {},
     "output_type": "execute_result"
    }
   ],
   "source": [
    "not 2==2"
   ]
  },
  {
   "cell_type": "code",
   "execution_count": 11,
   "id": "8a9297eb",
   "metadata": {},
   "outputs": [
    {
     "data": {
      "text/plain": [
       "False"
      ]
     },
     "execution_count": 11,
     "metadata": {},
     "output_type": "execute_result"
    }
   ],
   "source": [
    "not 1<2 and \"Murat\"==\"Murat\""
   ]
  },
  {
   "cell_type": "markdown",
   "id": "07e12425",
   "metadata": {},
   "source": [
    "## in operatörü"
   ]
  },
  {
   "cell_type": "code",
   "execution_count": 12,
   "id": "a44a4989",
   "metadata": {},
   "outputs": [
    {
     "data": {
      "text/plain": [
       "True"
      ]
     },
     "execution_count": 12,
     "metadata": {},
     "output_type": "execute_result"
    }
   ],
   "source": [
    "\"a\" in \"Çekoslovakyalılaştıramadıklarımızdanmısınız\""
   ]
  },
  {
   "cell_type": "code",
   "execution_count": 18,
   "id": "4fdf95eb",
   "metadata": {},
   "outputs": [
    {
     "data": {
      "text/plain": [
       "True"
      ]
     },
     "execution_count": 18,
     "metadata": {},
     "output_type": "execute_result"
    }
   ],
   "source": [
    "(\"a\" or \"l\" and \"b\")in \"Çekoslovakyalılaştıramadıklarımızdanmısınız\""
   ]
  },
  {
   "cell_type": "markdown",
   "id": "f9f47b70",
   "metadata": {},
   "source": [
    "## for döngüsü"
   ]
  },
  {
   "cell_type": "code",
   "execution_count": 30,
   "id": "5758131c",
   "metadata": {},
   "outputs": [
    {
     "name": "stdout",
     "output_type": "stream",
     "text": [
      "2\n",
      "4\n",
      "6\n",
      "8\n"
     ]
    }
   ],
   "source": [
    "liste=[1,2,3,4,5,6,7,8,9]\n",
    "for eleman in liste:\n",
    "    if eleman % 2 == 0 :\n",
    "        print(eleman)"
   ]
  },
  {
   "cell_type": "code",
   "execution_count": null,
   "id": "74331d24",
   "metadata": {},
   "outputs": [],
   "source": []
  }
 ],
 "metadata": {
  "kernelspec": {
   "display_name": "Python 3 (ipykernel)",
   "language": "python",
   "name": "python3"
  },
  "language_info": {
   "codemirror_mode": {
    "name": "ipython",
    "version": 3
   },
   "file_extension": ".py",
   "mimetype": "text/x-python",
   "name": "python",
   "nbconvert_exporter": "python",
   "pygments_lexer": "ipython3",
   "version": "3.9.13"
  }
 },
 "nbformat": 4,
 "nbformat_minor": 5
}
