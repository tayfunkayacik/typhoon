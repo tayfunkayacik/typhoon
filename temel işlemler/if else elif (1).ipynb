{
 "cells": [
  {
   "cell_type": "markdown",
   "id": "561f53c3",
   "metadata": {},
   "source": [
    "# if else elif koşulu"
   ]
  },
  {
   "cell_type": "markdown",
   "id": "decabf95",
   "metadata": {},
   "source": [
    "if bloğu eğer koşulu sağlanırsa anlamı taşır. Eğer if kalıbındaki koşulundaki koşul sağlanırsa (true) if bloğu çalıştırılır, koşul sağlanmazsa  false if bloğu çalışmaz."
   ]
  },
  {
   "cell_type": "code",
   "execution_count": null,
   "id": "41534691",
   "metadata": {},
   "outputs": [],
   "source": [
    "yaş=int(input(\"Yaşınızı giriniz:\"))\n",
    "\n",
    "if(yaş<18):\n",
    "    print (\"Ehliyet alamazsın.\")"
   ]
  },
  {
   "cell_type": "code",
   "execution_count": null,
   "id": "6d1e274a",
   "metadata": {},
   "outputs": [],
   "source": [
    "yaş=int(input(\"Yaşınızı giriniz:\"))\n",
    "\n",
    "if(yaş>18):\n",
    "    print (\"Ehliyet alabilirsin.\")"
   ]
  },
  {
   "cell_type": "code",
   "execution_count": null,
   "id": "67fb0fa1",
   "metadata": {},
   "outputs": [],
   "source": [
    "x=int(input(\"Sayı Giriniz:\"))\n",
    "if x > 0:\n",
    "    print (\"x pozitif\") \n",
    "if x < 0:\n",
    "    print (\"x negatif\")"
   ]
  },
  {
   "cell_type": "code",
   "execution_count": null,
   "id": "952f9f51",
   "metadata": {},
   "outputs": [],
   "source": [
    "x=int(input(\"Sayı Giriniz:\"))\n",
    "if x >= 0: \n",
    "    print (\"x pozitif\")\n",
    "else:\n"
   ]
  },
  {
   "cell_type": "code",
   "execution_count": 3,
   "id": "488f9148",
   "metadata": {},
   "outputs": [
    {
     "name": "stdout",
     "output_type": "stream",
     "text": [
      "x sayı giriniz:12\n",
      "y sayı giriniz:12\n",
      "x ve y birbirine eşittir\n"
     ]
    }
   ],
   "source": [
    "x=int(input(\"x sayı giriniz:\"))\n",
    "y=int(input(\"y sayı giriniz:\"))\n",
    "\n",
    "if x < y:\n",
    "    print (\"x, y'den küçüktür\")\n",
    "elif x > y:\n",
    "    print (\"x, y'den büyüktür\")\n",
    "else:\n",
    "    print (\"x ve y birbirine eşittir\")"
   ]
  },
  {
   "cell_type": "code",
   "execution_count": 9,
   "id": "b6595151",
   "metadata": {},
   "outputs": [
    {
     "name": "stdout",
     "output_type": "stream",
     "text": [
      "işlem seçiniz:1\n",
      "1. işlem seçildi.\n"
     ]
    }
   ],
   "source": [
    "işlem= int(input(\"işlem seçiniz:\"))\n",
    "if işlem==1:\n",
    "    print(\"1. işlem seçildi.\")\n",
    "elif işlem==2:\n",
    "    print(\"2. işlem seçildi.\")\n",
    "elif işlem==3:\n",
    "    print(\"3. işlem seçildi.\")\n",
    "else:\n",
    "    print(\"Geçersiz İşlem!\")\n"
   ]
  },
  {
   "cell_type": "code",
   "execution_count": null,
   "id": "64af900e",
   "metadata": {},
   "outputs": [],
   "source": []
  }
 ],
 "metadata": {
  "kernelspec": {
   "display_name": "Python 3 (ipykernel)",
   "language": "python",
   "name": "python3"
  },
  "language_info": {
   "codemirror_mode": {
    "name": "ipython",
    "version": 3
   },
   "file_extension": ".py",
   "mimetype": "text/x-python",
   "name": "python",
   "nbconvert_exporter": "python",
   "pygments_lexer": "ipython3",
   "version": "3.9.13"
  }
 },
 "nbformat": 4,
 "nbformat_minor": 5
}
