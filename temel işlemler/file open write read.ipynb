{
 "cells": [
  {
   "cell_type": "code",
   "execution_count": 1,
   "id": "683ac71d",
   "metadata": {},
   "outputs": [
    {
     "data": {
      "text/plain": [
       "<_io.TextIOWrapper name='Yeni Metin Belgesi.txt' mode='w' encoding='cp1254'>"
      ]
     },
     "execution_count": 1,
     "metadata": {},
     "output_type": "execute_result"
    }
   ],
   "source": [
    "open (\"Yeni Metin Belgesi.txt\", \"w\")"
   ]
  },
  {
   "cell_type": "code",
   "execution_count": 2,
   "id": "d40e620e",
   "metadata": {},
   "outputs": [],
   "source": [
    "file=open (\"D:\\Yeni Metin Belgesi2.txt\", \"w\")"
   ]
  },
  {
   "cell_type": "code",
   "execution_count": 3,
   "id": "4eba267e",
   "metadata": {},
   "outputs": [],
   "source": [
    "file= open (\"Yeni Metin Belgesi2.txt\", \"w\", encoding=\"utf-8\")"
   ]
  },
  {
   "cell_type": "code",
   "execution_count": 15,
   "id": "f728b138",
   "metadata": {},
   "outputs": [
    {
     "data": {
      "text/plain": [
       "12"
      ]
     },
     "execution_count": 15,
     "metadata": {},
     "output_type": "execute_result"
    }
   ],
   "source": [
    "file=open (\"D:\\Yeni Metin Belgesi2.txt\", \"w\")\n",
    "file.write(\"Merhaba Neo\")\n",
    "file.write(\"Matrix Nedir\")"
   ]
  },
  {
   "cell_type": "code",
   "execution_count": 16,
   "id": "214aeb28",
   "metadata": {},
   "outputs": [
    {
     "name": "stdout",
     "output_type": "stream",
     "text": [
      "Merhaba NeoMatrix Nedir\n"
     ]
    }
   ],
   "source": [
    "file= open (\"D:\\Yeni Metin Belgesi2.txt\", \"r\")\n",
    "for i in file:\n",
    "    print(i)\n",
    "file.close()"
   ]
  },
  {
   "cell_type": "code",
   "execution_count": 17,
   "id": "274aceb4",
   "metadata": {},
   "outputs": [
    {
     "data": {
      "text/plain": [
       "'Merhaba NeoMatrix Nedir'"
      ]
     },
     "execution_count": 17,
     "metadata": {},
     "output_type": "execute_result"
    }
   ],
   "source": [
    "file= open (\"D:\\Yeni Metin Belgesi2.txt\", \"r\")\n",
    "file.readline()"
   ]
  },
  {
   "cell_type": "code",
   "execution_count": null,
   "id": "07444879",
   "metadata": {},
   "outputs": [],
   "source": []
  },
  {
   "cell_type": "code",
   "execution_count": null,
   "id": "83c500cc",
   "metadata": {},
   "outputs": [],
   "source": []
  }
 ],
 "metadata": {
  "kernelspec": {
   "display_name": "Python 3 (ipykernel)",
   "language": "python",
   "name": "python3"
  },
  "language_info": {
   "codemirror_mode": {
    "name": "ipython",
    "version": 3
   },
   "file_extension": ".py",
   "mimetype": "text/x-python",
   "name": "python",
   "nbconvert_exporter": "python",
   "pygments_lexer": "ipython3",
   "version": "3.9.13"
  }
 },
 "nbformat": 4,
 "nbformat_minor": 5
}
