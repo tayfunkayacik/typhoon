{
 "cells": [
  {
   "cell_type": "markdown",
   "id": "cec178d5",
   "metadata": {},
   "source": [
    "# if else elif koşulu"
   ]
  },
  {
   "cell_type": "markdown",
   "id": "44f6a631",
   "metadata": {},
   "source": [
    "if bloğu eğer koşulu sağlanırsa anlamı taşır. Eğer if kalıbındaki koşulundaki koşul sağlanırsa (true) if bloğu çalıştırılır, koşul sağlanmazsa  false if bloğu çalışmaz."
   ]
  },
  {
   "cell_type": "code",
   "execution_count": null,
   "id": "878773f3",
   "metadata": {},
   "outputs": [],
   "source": [
    "yaş=int(input(\"Yaşınızı giriniz:\"))\n",
    "\n",
    "if(yaş<18):\n",
    "    print (\"Ehliyet alamazsın.\")"
   ]
  },
  {
   "cell_type": "code",
   "execution_count": null,
   "id": "31e105ee",
   "metadata": {},
   "outputs": [],
   "source": [
    "yaş=int(input(\"Yaşınızı giriniz:\"))\n",
    "\n",
    "if(yaş>18):\n",
    "    print (\"Ehliyet alabilirsin.\")"
   ]
  },
  {
   "cell_type": "code",
   "execution_count": null,
   "id": "bcc024fc",
   "metadata": {},
   "outputs": [],
   "source": [
    "x=int(input(\"Sayı Giriniz:\"))\n",
    "if x > 0:\n",
    "    print (\"x pozitif\") \n",
    "if x < 0:\n",
    "    print (\"x negatif\")"
   ]
  },
  {
   "cell_type": "code",
   "execution_count": null,
   "id": "95dc0b7e",
   "metadata": {},
   "outputs": [],
   "source": [
    "x=int(input(\"Sayı Giriniz:\"))\n",
    "if x >= 0: \n",
    "    print (\"x pozitif\")\n",
    "else:\n"
   ]
  },
  {
   "cell_type": "code",
   "execution_count": 3,
   "id": "135e57c8",
   "metadata": {},
   "outputs": [
    {
     "name": "stdout",
     "output_type": "stream",
     "text": [
      "x sayı giriniz:12\n",
      "y sayı giriniz:12\n",
      "x ve y birbirine eşittir\n"
     ]
    }
   ],
   "source": [
    "x=int(input(\"x sayı giriniz:\"))\n",
    "y=int(input(\"y sayı giriniz:\"))\n",
    "\n",
    "if x < y:\n",
    "    print (\"x, y'den küçüktür\")\n",
    "elif x > y:\n",
    "    print (\"x, y'den büyüktür\")\n",
    "else:\n",
    "    print (\"x ve y birbirine eşittir\")"
   ]
  },
  {
   "cell_type": "code",
   "execution_count": null,
   "id": "adb4abd2",
   "metadata": {},
   "outputs": [],
   "source": []
  }
 ],
 "metadata": {
  "kernelspec": {
   "display_name": "Python 3 (ipykernel)",
   "language": "python",
   "name": "python3"
  },
  "language_info": {
   "codemirror_mode": {
    "name": "ipython",
    "version": 3
   },
   "file_extension": ".py",
   "mimetype": "text/x-python",
   "name": "python",
   "nbconvert_exporter": "python",
   "pygments_lexer": "ipython3",
   "version": "3.9.13"
  }
 },
 "nbformat": 4,
 "nbformat_minor": 5
}
