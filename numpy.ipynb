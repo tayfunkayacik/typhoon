{
 "cells": [
  {
   "cell_type": "markdown",
   "id": "ea8ba4f5",
   "metadata": {},
   "source": [
    "# Numpy Kütüphanesi"
   ]
  },
  {
   "cell_type": "code",
   "execution_count": 3,
   "id": "a6e52c6c",
   "metadata": {},
   "outputs": [
    {
     "name": "stdout",
     "output_type": "stream",
     "text": [
      "[50.  55.  97.5 72.5 66.  28.5]\n"
     ]
    }
   ],
   "source": [
    "import numpy as n\n",
    "not1=[45,85,95,70,66,35]\n",
    "not2=[55,25,100,75,66,22]\n",
    "\n",
    "not1_n=n.array(not1)\n",
    "not2_n=n.array(not2)\n",
    "\n",
    "ortalama=(not1_n+not2_n)/2\n",
    "print (ortalama)"
   ]
  },
  {
   "cell_type": "code",
   "execution_count": 4,
   "id": "5b75bc3f",
   "metadata": {},
   "outputs": [
    {
     "name": "stdout",
     "output_type": "stream",
     "text": [
      "[[4 9 9 8]\n",
      " [3 5 7 7]]\n"
     ]
    }
   ],
   "source": [
    "import numpy as np\n",
    "Byt2=np.array([[4,9,9,8],[3,5,7,7]])\n",
    "print(Byt2)"
   ]
  },
  {
   "cell_type": "code",
   "execution_count": 5,
   "id": "583e3be8",
   "metadata": {},
   "outputs": [
    {
     "name": "stdout",
     "output_type": "stream",
     "text": [
      "5\n"
     ]
    }
   ],
   "source": [
    "import numpy as np\n",
    "\n",
    "arr = np.array([1,2,3,5,4])\n",
    "max_value=np.amax(arr)\n",
    "print(max_value)"
   ]
  },
  {
   "cell_type": "code",
   "execution_count": 18,
   "id": "81ca9a42",
   "metadata": {},
   "outputs": [
    {
     "name": "stdout",
     "output_type": "stream",
     "text": [
      "[ 8  7  7  8 10]\n"
     ]
    }
   ],
   "source": [
    "import numpy as np\n",
    "\n",
    "arr = np.array([[1,2,3,5,4],[4,6,7,8,10],[8,7,3,4,5]])\n",
    "max_value=np.amax(arr,axis=-2)\n",
    "print(max_value)"
   ]
  },
  {
   "cell_type": "code",
   "execution_count": 19,
   "id": "f8922470",
   "metadata": {},
   "outputs": [
    {
     "name": "stdout",
     "output_type": "stream",
     "text": [
      "[[ 5]\n",
      " [10]\n",
      " [ 8]]\n"
     ]
    }
   ],
   "source": [
    "import numpy as np\n",
    "\n",
    "arr = np.array([[1,2,3,5,4],[4,6,7,8,10],[8,7,3,4,5]])\n",
    "max_value=np.amax(arr,axis=1, keepdims=True)\n",
    "print(max_value)"
   ]
  },
  {
   "cell_type": "code",
   "execution_count": 26,
   "id": "90d75a48",
   "metadata": {},
   "outputs": [
    {
     "name": "stdout",
     "output_type": "stream",
     "text": [
      "12\n"
     ]
    }
   ],
   "source": [
    "import numpy as np\n",
    "\n",
    "arr = np.array([[1,2,3,5,4],[4,6,7,8,10],[8,7,3,4,5]])\n",
    "max_value=np.amax(arr, initial=12)\n",
    "print(max_value)"
   ]
  },
  {
   "cell_type": "code",
   "execution_count": null,
   "id": "bebcd44c",
   "metadata": {},
   "outputs": [],
   "source": []
  }
 ],
 "metadata": {
  "kernelspec": {
   "display_name": "Python 3 (ipykernel)",
   "language": "python",
   "name": "python3"
  },
  "language_info": {
   "codemirror_mode": {
    "name": "ipython",
    "version": 3
   },
   "file_extension": ".py",
   "mimetype": "text/x-python",
   "name": "python",
   "nbconvert_exporter": "python",
   "pygments_lexer": "ipython3",
   "version": "3.9.13"
  }
 },
 "nbformat": 4,
 "nbformat_minor": 5
}
